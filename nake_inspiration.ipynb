{
 "cells": [
  {
   "cell_type": "code",
   "execution_count": 1,
   "metadata": {},
   "outputs": [],
   "source": [
    "import numpy as np\n",
    "import matplotlib.pyplot as plt\n",
    "import seaborn as sns\n",
    "%matplotlib inline\n",
    "from matplotlib.collections import PatchCollection\n",
    "from matplotlib.patches import Rectangle\n",
    "import os"
   ]
  },
  {
   "cell_type": "markdown",
   "metadata": {},
   "source": [
    "Pipeline:\n",
    "\n",
    "- linearly decreasing numbers for size of rectangles along y axis (tuples)\n",
    "- jittered tuple vertices along x axis\n",
    "- linearly increasing density of rectangles along y axis\n",
    "- randomly chosen integer from three options for color"
   ]
  },
  {
   "cell_type": "code",
   "execution_count": 2,
   "metadata": {},
   "outputs": [],
   "source": [
    "def pick_prob_array(len_array, order):\n",
    "\n",
    "    prob_vals = np.random.dirichlet(range(len_array))\n",
    "    asc_order = np.sort(prob_vals)\n",
    "    desc_order = asc_order[::-1]\n",
    "    \n",
    "    if order:\n",
    "        probs = asc_order\n",
    "    else:\n",
    "        probs = desc_order\n",
    "    return probs\n",
    "    "
   ]
  },
  {
   "cell_type": "code",
   "execution_count": 21,
   "metadata": {},
   "outputs": [],
   "source": [
    "def get_params(x_range, y_range):\n",
    "\n",
    "    x = np.linspace(0, x_range, x_range)\n",
    "    \n",
    "    x_start_coord = np.ceil(np.linspace(1, x_range, y_range)).astype(int)\n",
    "    xp = []\n",
    "    yp = []\n",
    "    w = []\n",
    "    h = []\n",
    "    for i in range(y_range):\n",
    "        if i > 0:\n",
    "            y = np.array([i] * len(x))\n",
    "            y_jitter = np.random.beta(0.5, i*5, x_range)\n",
    "            x_jitter = np.random.beta(0.5, i*30, x_range)\n",
    "            x_pos_start = x_start_coord[y_range-i]\n",
    "            if i != y_range-1:\n",
    "                x_start = np.random.choice(range(x_pos_start), y_range-i, replace=False)\n",
    "            x_pos = x[x_start] + x_jitter[x_start]\n",
    "            y_pos = y[x_start] + y_jitter[x_start]\n",
    "            if i < x_range/2:\n",
    "                modifier = 4\n",
    "            else:\n",
    "                modifier = 1\n",
    "            w_h_vals = range(1, modifier*i)\n",
    "            width_prob = pick_prob_array(len(w_h_vals), 0)\n",
    "            height_prob = pick_prob_array(len(w_h_vals), 1)\n",
    "            width = np.random.choice(w_h_vals, size=len(x_start), replace=True, p=width_prob)\n",
    "            height = np.random.choice(w_h_vals, size=len(x_start), replace=True, p=height_prob) \n",
    "        else:\n",
    "            y = np.ones(len(x))\n",
    "            x_pos = x\n",
    "            y_pos = y\n",
    "            width = np.ones(len(x_pos))\n",
    "            height = np.ones(len(x_pos))\n",
    "        xp.append(x_pos)\n",
    "        yp.append(y_pos)\n",
    "        w.append(width)\n",
    "        h.append(height)\n",
    "            \n",
    "    return xp, yp, w, h\n",
    "    \n"
   ]
  },
  {
   "cell_type": "code",
   "execution_count": 22,
   "metadata": {},
   "outputs": [],
   "source": [
    "def plot_save(x_range, y_range):\n",
    "    x, y, w, h = get_params(x_range, y_range)\n",
    "\n",
    "    fig1 = plt.figure(figsize=(15,12))\n",
    "    ax1 = fig1.add_subplot(111)\n",
    "\n",
    "    c_opts = [\"#BFFF00\", \"#ade2e6\", \"#f88379\"]\n",
    "    for x_, y_, xe, ye in zip(x, y, w, h):\n",
    "        col_col = np.random.choice(c_opts)\n",
    "        for pts in range(len(x_)):            \n",
    "            rect = Rectangle((x_[pts], y_[pts]), xe[pts], ye[pts], alpha=0.2, linewidth=2, fill=False, color=col_col)\n",
    "            ax1.add_patch(rect)\n",
    "        \n",
    "    ax1.plot()\n",
    "    \n",
    "    plt.savefig(os.path.join('/Users/vassiki/Desktop/rects/','width{0}_height{1}.png'.format(x_range, y_range)))"
   ]
  },
  {
   "cell_type": "code",
   "execution_count": 27,
   "metadata": {},
   "outputs": [
    {
     "data": {
      "image/png": "[encoded data removed]",
      "text/plain": [
       "<Figure size 1080x864 with 1 Axes>"
      ]
     },
     "metadata": {},
     "output_type": "display_data"
    }
   ],
   "source": [
    "plot_save(20, 8)"
   ]
  },
  {
   "cell_type": "code",
   "execution_count": 14,
   "metadata": {},
   "outputs": [],
   "source": [
    "def get_params_no_prob(x_range, y_range):\n",
    "\n",
    "    x = np.linspace(0, x_range, x_range)\n",
    "    \n",
    "    x_start_coord = np.ceil(np.linspace(1, x_range, y_range)).astype(int)\n",
    "    xp = []\n",
    "    yp = []\n",
    "    w = []\n",
    "    h = []\n",
    "    for i in range(1,y_range):\n",
    "        y = np.array([i] * len(x))\n",
    "        y_jitter = np.random.beta(0.5, i*5, x_range)\n",
    "        x_jitter = np.random.beta(0.5, i*30, x_range)\n",
    "        x_pos_start = x_start_coord[y_range-i]\n",
    "        if i != y_range-1:\n",
    "            x_start = np.random.choice(range(x_pos_start), y_range-i, replace=False)\n",
    "        x_pos = x[x_start] + x_jitter[x_start]\n",
    "        y_pos = y[x_start] + y_jitter[x_start]\n",
    "        if i < x_range/2:\n",
    "            modifier = 4\n",
    "        else:\n",
    "            modifier = 1\n",
    "        w_h_vals = range(1, modifier*i)\n",
    "\n",
    "        width = np.random.choice(w_h_vals, size=len(x_start))\n",
    "        height = np.random.choice(w_h_vals, size=len(x_start)) \n",
    "\n",
    "        xp.append(x_pos)\n",
    "        yp.append(y_pos)\n",
    "        w.append(width)\n",
    "        h.append(height)\n",
    "            \n",
    "    return xp, yp, w, h"
   ]
  },
  {
   "cell_type": "code",
   "execution_count": 15,
   "metadata": {},
   "outputs": [],
   "source": [
    "def plot_save_no_prob(x_range, y_range):\n",
    "    x, y, w, h = get_params_no_prob(x_range, y_range)\n",
    "\n",
    "    fig1 = plt.figure(figsize=(15,12))\n",
    "    ax1 = fig1.add_subplot(111)\n",
    "\n",
    "    c_opts = [\"#BFFF00\", \"#ade2e6\", \"#f88379\"]\n",
    "    for x_, y_, xe, ye in zip(x, y, w, h):\n",
    "        col_col = np.random.choice(c_opts)\n",
    "        for pts in range(len(x_)):            \n",
    "            rect = Rectangle((x_[pts], y_[pts]), xe[pts], ye[pts], alpha=0.2, linewidth=2, fill=False, color=col_col)\n",
    "            ax1.add_patch(rect)\n",
    "        \n",
    "    ax1.plot()\n",
    "    \n",
    "    plt.savefig(os.path.join('/Users/vassiki/Desktop/rects/','width{0}_height{1}_no_prob.png'.format(x_range, y_range)))"
   ]
  },
  {
   "cell_type": "code",
   "execution_count": 20,
   "metadata": {},
   "outputs": [
    {
     "data": {
      "image/png": "[encoded data removed]",
      "text/plain": [
       "<Figure size 1080x864 with 1 Axes>"
      ]
     },
     "metadata": {},
     "output_type": "display_data"
    }
   ],
   "source": [
    "plot_save_no_prob(20, 8)"
   ]
  }
 ],
 "metadata": {
  "kernelspec": {
   "display_name": "Python 2",
   "language": "python",
   "name": "python2"
  },
  "language_info": {
   "codemirror_mode": {
    "name": "ipython",
    "version": 2
   },
   "file_extension": ".py",
   "mimetype": "text/x-python",
   "name": "python",
   "nbconvert_exporter": "python",
   "pygments_lexer": "ipython2",
   "version": "2.7.6"
  }
 },
 "nbformat": 4,
 "nbformat_minor": 2
}
