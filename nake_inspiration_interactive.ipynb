{
 "cells": [
  {
   "cell_type": "code",
   "execution_count": 31,
   "metadata": {},
   "outputs": [],
   "source": [
    "import numpy as np\n",
    "import matplotlib.pyplot as plt\n",
    "import seaborn as sns\n",
    "%matplotlib inline\n",
    "import ipywidgets as widgets\n",
    "from matplotlib.collections import PatchCollection\n",
    "from matplotlib.patches import Rectangle\n",
    "from matplotlib.pyplot import *"
   ]
  },
  {
   "cell_type": "code",
   "execution_count": 14,
   "metadata": {},
   "outputs": [],
   "source": [
    "def pick_prob_array(len_array, order):\n",
    "\n",
    "    prob_vals = np.random.dirichlet(range(len_array))\n",
    "    asc_order = np.sort(prob_vals)\n",
    "    desc_order = asc_order[::-1]\n",
    "    \n",
    "    if order:\n",
    "        probs = asc_order\n",
    "    else:\n",
    "        probs = desc_order\n",
    "    return probs\n",
    "    "
   ]
  },
  {
   "cell_type": "code",
   "execution_count": 19,
   "metadata": {},
   "outputs": [],
   "source": [
    "def get_params(x_range, y_range):\n",
    "\n",
    "    x = np.linspace(0, x_range, x_range)\n",
    "    \n",
    "    x_start_coord = np.ceil(np.linspace(1, x_range, y_range)).astype(int)\n",
    "    xp = []\n",
    "    yp = []\n",
    "    w = []\n",
    "    h = []\n",
    "    for i in range(1,y_range):\n",
    "        \n",
    "        y = np.array([i] * len(x))\n",
    "        y_jitter = np.random.beta(0.5, i*5, x_range)\n",
    "        x_jitter = np.random.beta(0.5, i*30, x_range)\n",
    "        x_pos_start = x_start_coord[y_range-i]\n",
    "        if i != y_range-1:\n",
    "            x_start = np.random.choice(range(x_pos_start), y_range-i, replace=False)\n",
    "        x_pos = x[x_start] + x_jitter[x_start]\n",
    "        y_pos = y[x_start] + y_jitter[x_start]\n",
    "        if i < x_range/2:\n",
    "            modifier = 4\n",
    "        else:\n",
    "            modifier = 1\n",
    "        w_h_vals = range(1, modifier*i)\n",
    "\n",
    "        width = np.random.choice(w_h_vals, size=len(x_start))\n",
    "        height = np.random.choice(w_h_vals, size=len(x_start)) \n",
    "        '''else:\n",
    "            y = np.ones(len(x))\n",
    "            x_pos = x\n",
    "            y_pos = y\n",
    "            width = np.ones(len(x_pos))\n",
    "            height = np.ones(len(x_pos))'''\n",
    "        xp.append(x_pos)\n",
    "        yp.append(y_pos)\n",
    "        w.append(width)\n",
    "        h.append(height)\n",
    "            \n",
    "    return xp, yp, w, h\n",
    "    \n",
    "    \n"
   ]
  },
  {
   "cell_type": "code",
   "execution_count": 46,
   "metadata": {},
   "outputs": [],
   "source": [
    "def plot_save(x_range, y_range,save_fig):\n",
    "    x, y, w, h = get_params(x_range, y_range)\n",
    "\n",
    "    fig1 = plt.figure(figsize=(15,12))\n",
    "    ax1 = fig1.add_subplot(111)\n",
    "\n",
    "    \n",
    "    for x_, y_, xe, ye in zip(x, y, w, h):\n",
    "        for pts in range(len(x_)):            \n",
    "            rect = Rectangle((x_[pts], y_[pts]), xe[pts], ye[pts], alpha=0.2, linewidth=2, fill=False)\n",
    "            ax1.add_patch(rect)\n",
    "            \n",
    "\n",
    "    p=ax1.plot()\n",
    "    xticks([])\n",
    "    yticks([])\n",
    "    if save_fig:\n",
    "        plt.savefig('width{0}_height{1}.png'.format(x_range, y_range))"
   ]
  },
  {
   "cell_type": "code",
   "execution_count": 47,
   "metadata": {},
   "outputs": [
    {
     "data": {
      "application/vnd.jupyter.widget-view+json": {
       "model_id": "a86fb46a446b44ca836f18acc0bea5d1",
       "version_major": 2,
       "version_minor": 0
      },
      "text/plain": [
       "interactive(children=(IntSlider(value=20, description='x_range', layout=Layout(width='50%')), IntSlider(value=…"
      ]
     },
     "metadata": {},
     "output_type": "display_data"
    }
   ],
   "source": [
    "save_fig_widget=widgets.ToggleButton(description='Save figure',value=False)\n",
    "#                                layout=Layout(width='50%', height='80px'))\n",
    "x_widget=widgets.IntSlider(min=0,max=100,step=1,value=20,layout=widgets.Layout(width='50%'))\n",
    "y_widget=widgets.IntSlider(min=0,max=100,step=1,value=8,layout=widgets.Layout(width='50%'))\n",
    "w=widgets.interact(plot_save,x_range=x_widget,y_range=y_widget,save_fig=save_fig_widget)\n"
   ]
  },
  {
   "cell_type": "code",
   "execution_count": null,
   "metadata": {},
   "outputs": [],
   "source": []
  },
  {
   "cell_type": "code",
   "execution_count": null,
   "metadata": {},
   "outputs": [],
   "source": []
  }
 ],
 "metadata": {
  "kernelspec": {
   "display_name": "Python 3",
   "language": "python",
   "name": "python3"
  },
  "language_info": {
   "codemirror_mode": {
    "name": "ipython",
    "version": 3
   },
   "file_extension": ".py",
   "mimetype": "text/x-python",
   "name": "python",
   "nbconvert_exporter": "python",
   "pygments_lexer": "ipython3",
   "version": "3.8.1"
  }
 },
 "nbformat": 4,
 "nbformat_minor": 4
}
